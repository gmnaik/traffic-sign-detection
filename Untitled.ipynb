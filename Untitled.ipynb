{
 "cells": [
  {
   "cell_type": "code",
   "execution_count": 3,
   "id": "c16ab768",
   "metadata": {},
   "outputs": [
    {
     "ename": "ModuleNotFoundError",
     "evalue": "No module named 'torch_directml'",
     "output_type": "error",
     "traceback": [
      "\u001b[1;31m---------------------------------------------------------------------------\u001b[0m",
      "\u001b[1;31mModuleNotFoundError\u001b[0m                       Traceback (most recent call last)",
      "Cell \u001b[1;32mIn[3], line 2\u001b[0m\n\u001b[0;32m      1\u001b[0m \u001b[38;5;28;01mimport\u001b[39;00m \u001b[38;5;21;01mtorch\u001b[39;00m\n\u001b[1;32m----> 2\u001b[0m \u001b[38;5;28;01mimport\u001b[39;00m \u001b[38;5;21;01mtorch_directml\u001b[39;00m\n\u001b[0;32m      4\u001b[0m \u001b[38;5;66;03m# Set DirectML device\u001b[39;00m\n\u001b[0;32m      5\u001b[0m dml \u001b[38;5;241m=\u001b[39m torch_directml\u001b[38;5;241m.\u001b[39mdevice()\n",
      "\u001b[1;31mModuleNotFoundError\u001b[0m: No module named 'torch_directml'"
     ]
    }
   ],
   "source": [
    "import torch\n",
    "import torch_directml\n",
    "\n",
    "# Set DirectML device\n",
    "dml = torch_directml.device()\n",
    "\n",
    "# Create tensors and move them to DirectML (AMD GPU)\n",
    "x = torch.tensor([1.0, 2.0, 3.0]).to(dml)\n",
    "print(x.device)  # Should show \"x is on DirectML device\""
   ]
  },
  {
   "cell_type": "code",
   "execution_count": null,
   "id": "4c31ffb1",
   "metadata": {},
   "outputs": [],
   "source": []
  }
 ],
 "metadata": {
  "kernelspec": {
   "display_name": "yolovenv",
   "language": "python",
   "name": "python3"
  },
  "language_info": {
   "codemirror_mode": {
    "name": "ipython",
    "version": 3
   },
   "file_extension": ".py",
   "mimetype": "text/x-python",
   "name": "python",
   "nbconvert_exporter": "python",
   "pygments_lexer": "ipython3",
   "version": "3.11.0"
  }
 },
 "nbformat": 4,
 "nbformat_minor": 5
}
